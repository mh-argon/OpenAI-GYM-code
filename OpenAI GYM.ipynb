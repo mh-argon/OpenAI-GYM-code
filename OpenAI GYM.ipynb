{
 "cells": [
  {
   "cell_type": "markdown",
   "id": "0644f532",
   "metadata": {},
   "source": [
    "# Reinforcment Learning"
   ]
  },
  {
   "cell_type": "code",
   "execution_count": 14,
   "id": "3bb8a20b",
   "metadata": {},
   "outputs": [
    {
     "name": "stdout",
     "output_type": "stream",
     "text": [
      "=== Initial State ===\n",
      "+---------+\n",
      "|\u001b[34;1mR\u001b[0m: | :\u001b[43m \u001b[0m:G|\n",
      "| : | : : |\n",
      "| : : : : |\n",
      "| | : | : |\n",
      "|Y| : |\u001b[35mB\u001b[0m: |\n",
      "+---------+\n",
      "\n"
     ]
    }
   ],
   "source": [
    "#provides the basic imports and environment to use as well as print the initial state\n",
    "import gym\n",
    "env = gym.make(\"Taxi-v3\").env\n",
    "# the printing method\n",
    "print(\"=== Initial State ===\")\n",
    "env.render()"
   ]
  },
  {
   "cell_type": "code",
   "execution_count": 16,
   "id": "1711cf7a",
   "metadata": {},
   "outputs": [
    {
     "name": "stdout",
     "output_type": "stream",
     "text": [
      "+---------+\n",
      "|\u001b[35mR\u001b[0m: | : :G|\n",
      "| : | : : |\n",
      "| :\u001b[43m \u001b[0m: : : |\n",
      "| | : | : |\n",
      "|\u001b[34;1mY\u001b[0m| : |B: |\n",
      "+---------+\n",
      "\n",
      "Action Space Discrete(6)\n",
      "State Space Discrete(500)\n"
     ]
    }
   ],
   "source": [
    "# will reset the environment to a new state and print out what the state looks like\n",
    "env.reset()\n",
    "env.render()\n",
    "\n",
    "# this prints out the action space, (which action it takes north, south ect ect) \n",
    "# actions would be 0 = south, 1 = north, 2 = east, 3 = west, 4 = pick-up, 5 = dropoff. this is between 0-5 so actionspace is 6\n",
    "# and the state space, which state of the 500 possible states it can be in\n",
    "print(\"Action Space {}\".format(env.action_space))\n",
    "print(\"State Space {}\".format(env.observation_space))"
   ]
  },
  {
   "cell_type": "code",
   "execution_count": 18,
   "id": "4bda3424",
   "metadata": {},
   "outputs": [
    {
     "name": "stdout",
     "output_type": "stream",
     "text": [
      "State: 328\n",
      "+---------+\n",
      "|\u001b[35mR\u001b[0m: | : :G|\n",
      "| : | : : |\n",
      "| : : : : |\n",
      "| |\u001b[43m \u001b[0m: | : |\n",
      "|\u001b[34;1mY\u001b[0m| : |B: |\n",
      "+---------+\n",
      "\n"
     ]
    }
   ],
   "source": [
    "# this sets the state of the current taxi based on the (row, column, position, destination)\n",
    "state = env.encode(3, 1, 2, 0)\n",
    "# prints the state\n",
    "print(\"State:\", state)\n",
    "\n",
    "# sets the environment state to the state value and renders it\n",
    "env.s = state\n",
    "env.render()"
   ]
  },
  {
   "cell_type": "code",
   "execution_count": 20,
   "id": "32b33c7f",
   "metadata": {},
   "outputs": [
    {
     "data": {
      "text/plain": [
       "{0: [(1.0, 428, -1, False)],\n",
       " 1: [(1.0, 228, -1, False)],\n",
       " 2: [(1.0, 348, -1, False)],\n",
       " 3: [(1.0, 328, -1, False)],\n",
       " 4: [(1.0, 328, -10, False)],\n",
       " 5: [(1.0, 328, -10, False)]}"
      ]
     },
     "execution_count": 20,
     "metadata": {},
     "output_type": "execute_result"
    }
   ],
   "source": [
    "# basic reward table to showcase whats happening\n",
    "# as can be seen every position has a state and the boolean value details whether it has finished. \n",
    "# this is a dictionary using the format action:(probability, next state, reward, done)\n",
    "# pick up or drop off is the worst possible reward as there is no passenger in the taxi or in the road\n",
    "# the rest are simple moves, better to go towards a position than to stay still\n",
    "env.P[328]"
   ]
  },
  {
   "cell_type": "code",
   "execution_count": 22,
   "id": "220a8b24",
   "metadata": {
    "scrolled": true
   },
   "outputs": [
    {
     "name": "stdout",
     "output_type": "stream",
     "text": [
      "Timesteps taken: 5670\n",
      "Penalties incurred: 1834\n"
     ]
    }
   ],
   "source": [
    "# sets the environment to the state\n",
    "env.s = 328\n",
    "epochs = 0\n",
    "penalties, reward = 0, 0\n",
    "# used for animations not really necessary in this case\n",
    "frames = []\n",
    "# whether the sequence is finished\n",
    "done = False\n",
    "# while loop for the overall actions and states so the machine can slowly learn what its doing\n",
    "while not done:\n",
    "    # set a possible action\n",
    "    action = env.action_space.sample()\n",
    "    # set the variables basde on the aquired actions\n",
    "    state, reward, done, info = env.step(action)\n",
    "    # checks if the action is the worst possible one\n",
    "    if reward == -10:\n",
    "        penalties += 1\n",
    "    # Put each rendered frame into dict for animation\n",
    "    # again not quite necessarry for the overall idea but a useful one\n",
    "    frames.append({\n",
    "        'frame': env.render(mode='ansi'),\n",
    "        'state': state,\n",
    "        'action': action,\n",
    "        'reward': reward\n",
    "        }\n",
    "    )\n",
    "    epochs += 1  \n",
    "# prints based on the steps taken and how many penalties from making the best move, because\n",
    "# regardless the amchine takes some penalties form its moves.\n",
    "print(\"Timesteps taken: {}\".format(epochs))\n",
    "print(\"Penalties incurred: {}\".format(penalties))"
   ]
  },
  {
   "cell_type": "markdown",
   "id": "2fffd4a8",
   "metadata": {},
   "source": [
    "# Q-Learning in Taxi Problem"
   ]
  },
  {
   "cell_type": "code",
   "execution_count": 24,
   "id": "993da4d3",
   "metadata": {},
   "outputs": [],
   "source": [
    "# starting setup to determine the overall numpy value adn the q-table for the q-value\n",
    "import numpy as np\n",
    "q_table = np.zeros([env.observation_space.n, env.action_space.n])"
   ]
  },
  {
   "cell_type": "code",
   "execution_count": 28,
   "id": "dd7cf0d6",
   "metadata": {},
   "outputs": [
    {
     "name": "stdout",
     "output_type": "stream",
     "text": [
      "Episode: 100000\n",
      "Training finished.\n",
      "\n",
      "Wall time: 1min\n"
     ]
    }
   ],
   "source": [
    "%%time\n",
    "\"\"\"Training the agent\"\"\"\n",
    "#uses the random and Ipython \n",
    "import random\n",
    "from IPython.display import clear_output\n",
    "\n",
    "alpha = 0.1\n",
    "gamma = 0.6\n",
    "epsilon = 0.1\n",
    "# plotting the matrix \n",
    "all_epochs = []\n",
    "all_penalties = []\n",
    "\n",
    "# the maximum aount is 100000 whereas the minimum episode is 1, loop to rin through everything\n",
    "for i in range(1, 100001):\n",
    "    state = env.reset()\n",
    "    epochs, penalties, reward, = 0, 0, 0\n",
    "    done = False\n",
    "    \n",
    "    # while this loop is not finished the computer will explore random actions or exploit the best outcome based on learned values\n",
    "    while not done:\n",
    "        if random.uniform(0, 1) < epsilon:\n",
    "            action = env.action_space.sample()\n",
    "        else:\n",
    "            action = np.argmax(q_table[state])\n",
    "            \n",
    "        #sets the next step values\n",
    "        next_state, reward, done, info = env.step(action) \n",
    "        \n",
    "        #starts and prepares the overall solve for the q-value\n",
    "        old_value = q_table[state, action]\n",
    "        next_max = np.max(q_table[next_state])\n",
    "        \n",
    "        # uses the next value by checking what it is and applying it to the prior value\n",
    "        new_value = (1 - alpha) * old_value + alpha * (reward + gamma * next_max)\n",
    "        q_table[state, action] = new_value\n",
    "\n",
    "        # sets the penalties for actions made\n",
    "        if reward == -10:\n",
    "            penalties += 1\n",
    "\n",
    "        # sets the state to the next_state\n",
    "        state = next_state\n",
    "        epochs += 1\n",
    "        \n",
    "    # if loop does not leave a remainder of 0 clear iputut and set wait\n",
    "    if i % 100 == 0:\n",
    "        clear_output(wait=True)\n",
    "        print(f\"Episode: {i}\")\n",
    "\n",
    "print(\"Training finished.\\n\")\n"
   ]
  },
  {
   "cell_type": "code",
   "execution_count": 30,
   "id": "668235a2",
   "metadata": {},
   "outputs": [
    {
     "data": {
      "text/plain": [
       "array([ -2.41269506,  -2.27325184,  -2.41722775,  -2.3616033 ,\n",
       "       -11.09542391, -11.21985096])"
      ]
     },
     "execution_count": 30,
     "metadata": {},
     "output_type": "execute_result"
    }
   ],
   "source": [
    "# showcases what the q-value looks like now\n",
    "# the closer value to 0 the better the actual decision is\n",
    "q_table[328]"
   ]
  },
  {
   "cell_type": "code",
   "execution_count": 32,
   "id": "c7da18d0",
   "metadata": {},
   "outputs": [
    {
     "name": "stdout",
     "output_type": "stream",
     "text": [
      "Results after 100 episodes:\n",
      "Average timesteps per episode: 13.23\n",
      "Average penalties per episode: 0.0\n"
     ]
    }
   ],
   "source": [
    "\"\"\"Evaluate agent's performance after Q-learning\"\"\"\n",
    "\n",
    "# checks the overall penalties and ferformance of the agent\n",
    "total_epochs, total_penalties = 0, 0\n",
    "# based on 100 episodes \n",
    "episodes = 100\n",
    "\n",
    "# loops all in range within epsiodes, 100, and sets the state for done\n",
    "for _ in range(episodes):\n",
    "    state = env.reset()\n",
    "    epochs, penalties, reward = 0, 0, 0\n",
    "    done = False\n",
    "    \n",
    "    # while not finished will set the variables based on the actions generated\n",
    "    while not done:\n",
    "        action = np.argmax(q_table[state])\n",
    "        state, reward, done, info = env.step(action)\n",
    "\n",
    "        if reward == -10:\n",
    "            penalties += 1\n",
    "\n",
    "        epochs += 1\n",
    "\n",
    "    # prepares the print valeus\n",
    "    total_penalties += penalties\n",
    "    total_epochs += epochs\n",
    "\n",
    "    #prints the values as well as the format it appears in\n",
    "print(f\"Results after {episodes} episodes:\")\n",
    "print(f\"Average timesteps per episode: {total_epochs / episodes}\")\n",
    "print(f\"Average penalties per episode: {total_penalties / episodes}\")"
   ]
  },
  {
   "cell_type": "markdown",
   "id": "086e06fd",
   "metadata": {},
   "source": [
    "# Q-Learning in Cart-Pole Problem"
   ]
  },
  {
   "cell_type": "code",
   "execution_count": 68,
   "id": "db19c8cc",
   "metadata": {},
   "outputs": [
    {
     "data": {
      "image/png": "[encoded data removed]",
      "text/plain": [
       "<Figure size 432x288 with 1 Axes>"
      ]
     },
     "metadata": {
      "needs_background": "light"
     },
     "output_type": "display_data"
    },
    {
     "name": "stdout",
     "output_type": "stream",
     "text": [
      "14.185\n"
     ]
    }
   ],
   "source": [
    "# set the import libraries\n",
    "import gym\n",
    "import numpy as np\n",
    "import matplotlib.pyplot as plt\n",
    "\n",
    "# method for running the overall episodes\n",
    "def run_episode(env, parameters):\n",
    "    observation = env.reset()\n",
    "    totalreward = 0\n",
    "    # does this 200 times\n",
    "    for _ in range(200):\n",
    "        # sets the action to 0 if the parameter observation output is less than 0, otherwise its 1\n",
    "        action = 0 if np.matmul(parameters,observation) < 0 else 1\n",
    "        # sets the observation, reward, done, infor variable to the created environment.step\n",
    "        observation, reward, done, info = env.step(action)\n",
    "        # adds to a total reward based on the valid steps taken\n",
    "        totalreward += reward\n",
    "        #breaks the loop if complete\n",
    "        if done:\n",
    "            break\n",
    "    # returns the reward\n",
    "    return totalreward\n",
    "\n",
    "# this is the overall training method\n",
    "def train(submit):\n",
    "    # will set invironment to the carpole gym \n",
    "    env = gym.make('CartPole-v0')\n",
    "    # if values have been submitted and the sumbitted values are valid\n",
    "    if submit:\n",
    "        # will start to monitor and check the cartpole actions \n",
    "        env.monitor.start('cartpole-experiments/', force=True)\n",
    "\n",
    "    # setting counter, bestparams, bestreward\n",
    "    counter = 0\n",
    "    bestparams = None\n",
    "    bestreward = 0\n",
    "    # loops to 10000 tiems \n",
    "    for _ in range(10000):\n",
    "        # adding a counter each time\n",
    "        counter += 1\n",
    "        # sets the parameters to a random number from 0-3 and multiplying it by 2 - 1\n",
    "        parameters = np.random.rand(4) * 2 - 1\n",
    "        # sets reward to the returned epsiode value i.e what it gets for the steps\n",
    "        reward = run_episode(env,parameters)\n",
    "        # will pick the best reward from the actions taken\n",
    "        if reward > bestreward:\n",
    "            bestreward = reward\n",
    "            bestparams = parameters\n",
    "            if reward == 200:\n",
    "                break\n",
    "    # if submitted than loops the epsidoe 100 times and closes the monitor\n",
    "    if submit:\n",
    "        for _ in xrange(100):\n",
    "            run_episode(env,bestparams)\n",
    "        env.monitor.close()\n",
    "    # returns the counter value representing the amount of times something happens\n",
    "    return counter\n",
    "\n",
    "# train an agent to submit to openai gym\n",
    "# train(submit=True)\n",
    "\n",
    "# create graphs\n",
    "results = []\n",
    "for _ in range(1000):\n",
    "    results.append(train(submit=False))\n",
    "\n",
    "# sets the plot values nad what the laabels will be like, had to remove hist = 1 as it broke the overall code\n",
    "# also had to change x_range in the loops to range(\"value\") as this may have been an older codeing method\n",
    "plt.hist(results,50, facecolor='g', alpha=0.75)\n",
    "plt.xlabel('Episodes required to reach 200')\n",
    "plt.ylabel('Frequency')\n",
    "plt.title('Histogram of Random Search')\n",
    "plt.show()\n",
    "\n",
    "#prints the results scaled down\n",
    "print (np.sum(results) / 1000.0)"
   ]
  },
  {
   "cell_type": "code",
   "execution_count": 70,
   "id": "8c8bd795",
   "metadata": {},
   "outputs": [
    {
     "name": "stdout",
     "output_type": "stream",
     "text": [
      "2000\n"
     ]
    },
    {
     "data": {
      "image/png": "[encoded data removed]",
      "text/plain": [
       "<Figure size 432x288 with 1 Axes>"
      ]
     },
     "metadata": {
      "needs_background": "light"
     },
     "output_type": "display_data"
    },
    {
     "name": "stdout",
     "output_type": "stream",
     "text": [
      "1172.485\n"
     ]
    }
   ],
   "source": [
    "import gym\n",
    "import numpy as np\n",
    "import matplotlib.pyplot as plt\n",
    "\n",
    "# returns the total reward from the actions taken\n",
    "def run_episode(env, parameters):\n",
    "    # sets the observation to the environments current state\n",
    "    observation = env.reset()\n",
    "    # prepares totalreward and counter\n",
    "    totalreward = 0\n",
    "    counter = 0\n",
    "    # loops to check the actions that can be taken and the rewards that are returned\n",
    "    for _ in range(200):\n",
    "        # env.render()\n",
    "        # action if parameters and observations are met, returns 0 or 1\n",
    "        action = 0 if np.matmul(parameters,observation) < 0 else 1\n",
    "        # sets the variables to the steps overall outcome\n",
    "        observation, reward, done, info = env.step(action)\n",
    "        # sets total reward to reward after all calculations\n",
    "        totalreward += reward\n",
    "        # sets the amount of steps as coutner\n",
    "        counter += 1\n",
    "        # Break if finished \n",
    "        if done:\n",
    "            break\n",
    "    return totalreward\n",
    "\n",
    "# sets the trainign method focusing on teaching the machine\n",
    "def train(submit):\n",
    "    env = gym.make('CartPole-v0')\n",
    "    if submit:\n",
    "        env.monitor.start('cartpole-hill/', force=True)\n",
    "\n",
    "    # sets the amount of episodes per update\n",
    "    episodes_per_update = 5\n",
    "    # sets the noise scaling value\n",
    "    noise_scaling = 0.1\n",
    "    # sets the parameters ot the 0-3 * 2 - 1 value\n",
    "    parameters = np.random.rand(4) * 2 - 1\n",
    "    # prepares bestreward and counter\n",
    "    bestreward = 0\n",
    "    counter = 0\n",
    "\n",
    "    # loops a range to 2000\n",
    "    for _ in range(2000):\n",
    "        # adds counter\n",
    "        counter += 1\n",
    "        # newparams is set to the parameters and a random value with noise scaling\n",
    "        newparams = parameters + (np.random.rand(4) * 2 - 1)*noise_scaling\n",
    "        # sets reward to the returned total reward of run-episode\n",
    "        reward = run_episode(env,newparams)\n",
    "        # if the reward is greater thna the best reward than replce it with the new rwards\n",
    "        if reward > bestreward:\n",
    "            bestreward = reward\n",
    "            parameters = newparams\n",
    "            if reward == 200:\n",
    "                break\n",
    "\n",
    "    # if submitted will run a loop 100 times for the episode and the monitor will cloese\n",
    "    # returns the counter\n",
    "    if submit:\n",
    "        for _ in range(100):\n",
    "            run_episode(env,parameters)\n",
    "        env.monitor.close()\n",
    "    return counter\n",
    "\n",
    "\n",
    "# prints the amount of runs to get the overall preferred state\n",
    "r = train(submit=False)\n",
    "print (r)\n",
    "\n",
    "# create graphs\n",
    "results = []\n",
    "for _ in range(1000):\n",
    "    results.append(train(submit=False))\n",
    "\n",
    "# sets the plot values nad what the laabels will be like, had to remove hist = 1 as it broke the overall code\n",
    "# also had to change x_range in the loops to range(\"value\") as this may have been an older codeing method\n",
    "plt.hist(results,50, facecolor='g', alpha=0.75)\n",
    "plt.xlabel('Episodes required to reach 200')\n",
    "plt.ylabel('Frequency')\n",
    "plt.title('Histogram of Random Search')\n",
    "plt.show()\n",
    "\n",
    "#prints the results scaled down\n",
    "print (np.sum(results) / 1000.0)"
   ]
  },
  {
   "cell_type": "code",
   "execution_count": null,
   "id": "1abbff21",
   "metadata": {},
   "outputs": [],
   "source": []
  }
 ],
 "metadata": {
  "kernelspec": {
   "display_name": "Python 3",
   "language": "python",
   "name": "python3"
  },
  "language_info": {
   "codemirror_mode": {
    "name": "ipython",
    "version": 3
   },
   "file_extension": ".py",
   "mimetype": "text/x-python",
   "name": "python",
   "nbconvert_exporter": "python",
   "pygments_lexer": "ipython3",
   "version": "3.8.8"
  }
 },
 "nbformat": 4,
 "nbformat_minor": 5
}
